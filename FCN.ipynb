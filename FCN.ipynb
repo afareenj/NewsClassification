{
 "cells": [
  {
   "cell_type": "code",
   "execution_count": 1,
   "metadata": {
    "collapsed": true
   },
   "outputs": [],
   "source": [
    "import pandas as pd\n",
    "fixedData = pd.read_csv('Cleaned-Data.csv')"
   ]
  },
  {
   "cell_type": "code",
   "execution_count": 2,
   "metadata": {
    "collapsed": true
   },
   "outputs": [],
   "source": [
    "relevant_data = fixedData[['text','Label']]"
   ]
  },
  {
   "cell_type": "code",
   "execution_count": 3,
   "metadata": {},
   "outputs": [
    {
     "name": "stdout",
     "output_type": "stream",
     "text": [
      "                                                text  Label\n",
      "0  ['as', 'us', 'budget', 'fight', 'looms', 'repu...      0\n",
      "1  ['us', 'military', 'to', 'accept', 'transgende...      0\n",
      "2  ['senior', 'us', 'republican', 'senator', 'let...      0\n",
      "3  ['fbi', 'russia', 'probe', 'helped', 'by', 'au...      0\n",
      "4  ['trump', 'wants', 'postal', 'service', 'to', ...      0\n",
      "36030\n",
      "                                                text  Label\n",
      "0  ['alabama', 'official', 'to', 'certify', 'sena...      0\n",
      "1  ['factbox', 'trump', 'on', 'twitter', 'dec', '...      0\n",
      "2  ['us', 'appeals', 'court', 'rejects', 'challen...      0\n",
      "3  ['federal', 'judge', 'partially', 'lifts', 'tr...      0\n",
      "4  ['failed', 'vote', 'to', 'oust', 'president', ...      0\n",
      "6233\n",
      "                                                text  Label\n",
      "0  ['spy', 'chiefs', 'pressure', 'congress', 'to'...      0\n",
      "1  ['house', 'gives', 'final', 'approval', 'to', ...      0\n",
      "2  ['us', 'responds', 'in', 'court', 'fight', 'ov...      0\n",
      "3  ['vote', 'in', 'senate', 'on', 'dreamers', 'hi...      0\n",
      "4  ['white', 'house', 'expects', 'congress', 'to'...      0\n",
      "2635\n"
     ]
    }
   ],
   "source": [
    "import numpy as np\n",
    "train_indices = np.random.rand(len(relevant_data)) < 0.8\n",
    "train = relevant_data[train_indices].reset_index(drop=True)\n",
    "test = relevant_data[~train_indices].reset_index(drop=True)\n",
    "test_indices = np.random.rand(len(test)) < 0.7\n",
    "val = test[~test_indices].reset_index(drop=True)\n",
    "test = test[test_indices].reset_index(drop=True)\n",
    "print(train.head())\n",
    "print(len(train))\n",
    "print(test.head())\n",
    "print(len(test))\n",
    "print(val.head())\n",
    "print(len(val))"
   ]
  },
  {
   "cell_type": "code",
   "execution_count": 4,
   "metadata": {
    "collapsed": true
   },
   "outputs": [],
   "source": [
    "from sklearn.feature_extraction.text import CountVectorizer\n",
    "v = CountVectorizer()\n",
    "training_text = []\n",
    "training_result = []\n",
    "for i in range(len(train)): #len(train)\n",
    "    training_text.append(''.join(str(x) for x in train['text'][i]))\n",
    "    training_result.append(train['Label'][i])\n",
    "training_text = v.fit_transform(training_text)"
   ]
  },
  {
   "cell_type": "code",
   "execution_count": 5,
   "metadata": {
    "collapsed": true
   },
   "outputs": [],
   "source": [
    "text = []\n",
    "result = []\n",
    "for i in range(len(train)):\n",
    "    text.append(''.join(str(x) for x in train['text'][i]))\n",
    "    result.append(train['Label'][i])\n",
    "X_train = v.transform(text)\n",
    "y_train = np.asarray(result)\n",
    "\n",
    "text = []\n",
    "result = []\n",
    "for i in range(len(val)):\n",
    "    text.append(''.join(str(x) for x in val['text'][i]))\n",
    "    result.append(val['Label'][i])\n",
    "X_val = v.transform(text)\n",
    "y_val = np.asarray(result)\n",
    "\n",
    "text = []\n",
    "result = []\n",
    "for i in range(len(test)):\n",
    "    text.append(''.join(str(x) for x in test['text'][i]))\n",
    "    result.append(test['Label'][i])\n",
    "X_test = v.transform(text)\n",
    "y_test = np.asarray(result)"
   ]
  },
  {
   "cell_type": "code",
   "execution_count": 8,
   "metadata": {},
   "outputs": [
    {
     "name": "stdout",
     "output_type": "stream",
     "text": [
      "_________________________________________________________________\n",
      "Layer (type)                 Output Shape              Param #   \n",
      "=================================================================\n",
      "input_2 (InputLayer)         (None, 195031)            0         \n",
      "_________________________________________________________________\n",
      "dense_2 (Dense)              (None, 10)                1950320   \n",
      "_________________________________________________________________\n",
      "dense_3 (Dense)              (None, 1)                 11        \n",
      "=================================================================\n",
      "Total params: 1,950,331\n",
      "Trainable params: 1,950,331\n",
      "Non-trainable params: 0\n",
      "_________________________________________________________________\n"
     ]
    }
   ],
   "source": [
    "import tensorflow as tf\n",
    "from tensorflow.python.keras.models import Model\n",
    "from tensorflow.python.keras import layers\n",
    "input_dim = X_train.shape[1]\n",
    "im_input = layers.Input(shape=(input_dim,))\n",
    "x = layers.Dense(units=10, activation='relu')(im_input)\n",
    "x = layers.Dense(units=1, activation='sigmoid')(x)\n",
    "model = Model(inputs=im_input, outputs=x)\n",
    "model.compile(loss='binary_crossentropy', optimizer='adam', metrics=['accuracy'])\n",
    "model.summary()"
   ]
  },
  {
   "cell_type": "code",
   "execution_count": 9,
   "metadata": {},
   "outputs": [
    {
     "name": "stdout",
     "output_type": "stream",
     "text": [
      "Train on 36030 samples, validate on 2635 samples\n",
      "Epoch 1/3\n",
      "36030/36030 [==============================] - 138s 4ms/step - loss: 0.0952 - acc: 0.9788 - val_loss: 0.0304 - val_acc: 0.9954\n",
      "Epoch 2/3\n",
      "36030/36030 [==============================] - 133s 4ms/step - loss: 0.0142 - acc: 0.9989 - val_loss: 0.0189 - val_acc: 0.9962\n",
      "Epoch 3/3\n",
      "36030/36030 [==============================] - 212s 6ms/step - loss: 0.0051 - acc: 0.9999 - val_loss: 0.0163 - val_acc: 0.9962\n",
      "36030/36030 [==============================] - 99s 3ms/step\n",
      "Training Accuracy: 0.9999\n",
      "6233/6233 [==============================] - 16s 3ms/step\n",
      "Testing Accuracy: 0.9966\n"
     ]
    }
   ],
   "source": [
    "history = model.fit(X_train, y_train, epochs=3, validation_data=(X_val, y_val), batch_size=100)\n",
    "loss, accuracy = model.evaluate(X_train, y_train)\n",
    "print('Training Accuracy: {:.4f}'.format(accuracy))\n",
    "loss, accuracy = model.evaluate(X_test, y_test)\n",
    "print(\"Testing Accuracy: {:.4f}\".format(accuracy))"
   ]
  },
  {
   "cell_type": "code",
   "execution_count": 10,
   "metadata": {},
   "outputs": [
    {
     "data": {
      "image/png": "[encoded data removed]",
      "text/plain": [
       "<Figure size 864x360 with 2 Axes>"
      ]
     },
     "metadata": {},
     "output_type": "display_data"
    }
   ],
   "source": [
    "import matplotlib.pyplot as plt\n",
    "plt.style.use('ggplot')\n",
    "def plot_history(history):\n",
    "    acc = history.history['acc']\n",
    "    val_acc = history.history['val_acc']\n",
    "    loss = history.history['loss']\n",
    "    val_loss = history.history['val_loss']\n",
    "    x = range(1, len(acc) + 1)\n",
    "\n",
    "    plt.figure(figsize=(12, 5))\n",
    "    plt.subplot(1, 2, 1)\n",
    "    plt.plot(x, acc, 'b', label='Training acc')\n",
    "    plt.plot(x, val_acc, 'r', label='Validation acc')\n",
    "    plt.xticks([1,2,3])\n",
    "    plt.xlabel('Epoch')\n",
    "    plt.ylabel('Accuracy')\n",
    "    plt.title('Training and validation accuracy')\n",
    "    plt.legend()\n",
    "    plt.subplot(1, 2, 2)\n",
    "    plt.plot(x, loss, 'b', label='Training loss')\n",
    "    plt.plot(x, val_loss, 'r', label='Validation loss')\n",
    "    plt.xticks([1,2,3])\n",
    "    plt.xlabel('Epoch')\n",
    "    plt.ylabel('Loss')\n",
    "    plt.title('Training and validation loss')\n",
    "    plt.legend()\n",
    "    plt.show()\n",
    "plot_history(history)"
   ]
  },
  {
   "cell_type": "code",
   "execution_count": 10,
   "metadata": {},
   "outputs": [
    {
     "name": "stdout",
     "output_type": "stream",
     "text": [
      "(35895, 195075)\n"
     ]
    }
   ],
   "source": [
    "print(training_text.shape)"
   ]
  },
  {
   "cell_type": "code",
   "execution_count": 11,
   "metadata": {},
   "outputs": [
    {
     "name": "stdout",
     "output_type": "stream",
     "text": [
      "  (0, 193543)\t1\n",
      "  (0, 144669)\t1\n",
      "  (0, 54569)\t1\n",
      "  (0, 57033)\t1\n",
      "  (0, 23858)\t1\n",
      "  (0, 189912)\t1\n",
      "  (0, 146502)\t1\n",
      "  (0, 137683)\t1\n",
      "  (0, 170712)\t1\n",
      "  (0, 79173)\t1\n",
      "  (0, 3063)\t1\n",
      "  (0, 17881)\t2\n",
      "  (0, 7150)\t1\n",
      "  (0, 3923)\t3\n",
      "  (0, 51494)\t1\n",
      "  (0, 152827)\t1\n",
      "  (0, 146476)\t1\n",
      "  (0, 67052)\t1\n",
      "  (0, 60211)\t2\n",
      "  (0, 152258)\t1\n",
      "  (0, 189368)\t1\n",
      "  (0, 86901)\t1\n",
      "  (0, 155162)\t1\n",
      "  (0, 165013)\t1\n",
      "  (0, 188060)\t1\n",
      "  :\t:\n",
      "  (35894, 15280)\t8\n",
      "  (35894, 96658)\t1\n",
      "  (35894, 178146)\t1\n",
      "  (35894, 189957)\t3\n",
      "  (35894, 62688)\t2\n",
      "  (35894, 172144)\t4\n",
      "  (35894, 189187)\t3\n",
      "  (35894, 46443)\t1\n",
      "  (35894, 9869)\t4\n",
      "  (35894, 189237)\t3\n",
      "  (35894, 190595)\t6\n",
      "  (35894, 7305)\t24\n",
      "  (35894, 118651)\t11\n",
      "  (35894, 23935)\t1\n",
      "  (35894, 174464)\t31\n",
      "  (35894, 60835)\t8\n",
      "  (35894, 172499)\t8\n",
      "  (35894, 189528)\t2\n",
      "  (35894, 81325)\t15\n",
      "  (35894, 117530)\t14\n",
      "  (35894, 171160)\t56\n",
      "  (35894, 186891)\t1\n",
      "  (35894, 171287)\t1\n",
      "  (35894, 182426)\t13\n",
      "  (35894, 10706)\t7\n"
     ]
    }
   ],
   "source": [
    "print(training_text)"
   ]
  },
  {
   "cell_type": "code",
   "execution_count": null,
   "metadata": {
    "collapsed": true
   },
   "outputs": [],
   "source": []
  }
 ],
 "metadata": {
  "kernelspec": {
   "display_name": "Python 3",
   "language": "python",
   "name": "python3"
  },
  "language_info": {
   "codemirror_mode": {
    "name": "ipython",
    "version": 3
   },
   "file_extension": ".py",
   "mimetype": "text/x-python",
   "name": "python",
   "nbconvert_exporter": "python",
   "pygments_lexer": "ipython3",
   "version": "3.6.3"
  }
 },
 "nbformat": 4,
 "nbformat_minor": 2
}
