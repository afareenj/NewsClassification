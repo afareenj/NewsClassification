{
 "cells": [
  {
   "cell_type": "code",
   "execution_count": 1,
   "metadata": {
    "collapsed": true
   },
   "outputs": [],
   "source": [
    "import pandas as pd\n",
    "fixedData = pd.read_csv('Cleaned-Data.csv')"
   ]
  },
  {
   "cell_type": "code",
   "execution_count": 2,
   "metadata": {
    "collapsed": true
   },
   "outputs": [],
   "source": [
    "relevant_data = fixedData[['text','Label']]"
   ]
  },
  {
   "cell_type": "code",
   "execution_count": 3,
   "metadata": {},
   "outputs": [
    {
     "name": "stdout",
     "output_type": "stream",
     "text": [
      "                                                text  Label\n",
      "0  ['trump', 'on', 'twitter', 'dec', 'global', 'w...      0\n",
      "1  ['trump', 'travel', 'ban', 'should', 'not', 'a...      0\n",
      "2  ['trump', 'on', 'twitter', 'dec', 'tax', 'cut'...      0\n",
      "3  ['as', 'republicans', 'aim', 'to', 'ride', 'ec...      0\n",
      "4  ['senate', 'shelves', 'disaster', 'aid', 'bill...      0\n",
      "4424\n",
      "                                                text  Label\n",
      "0  ['as', 'us', 'budget', 'fight', 'looms', 'repu...      0\n",
      "1  ['senior', 'us', 'republican', 'senator', 'let...      0\n",
      "2  ['fbi', 'russia', 'probe', 'helped', 'by', 'au...      0\n",
      "3  ['trump', 'wants', 'postal', 'service', 'to', ...      0\n",
      "4  ['white', 'house', 'congress', 'prepare', 'for...      0\n",
      "28396\n",
      "                                                text  Label\n",
      "0  ['us', 'military', 'to', 'accept', 'transgende...      0\n",
      "1  ['man', 'says', 'he', 'delivered', 'manure', '...      0\n",
      "2  ['us', 'lawmakers', 'question', 'businessman',...      0\n",
      "3  ['exclusive', 'us', 'memo', 'weakens', 'guidel...      0\n",
      "4  ['senate', 'leader', 'mcconnell', 'sees', 'a',...      0\n",
      "12078\n"
     ]
    }
   ],
   "source": [
    "import numpy as np\n",
    "train_indices = np.random.rand(len(relevant_data)) < 0.1\n",
    "train = relevant_data[train_indices].reset_index(drop=True)\n",
    "test = relevant_data[~train_indices].reset_index(drop=True)\n",
    "test_indices = np.random.rand(len(test)) < 0.7\n",
    "val = test[~test_indices].reset_index(drop=True)\n",
    "test = test[test_indices].reset_index(drop=True)\n",
    "print(train.head())\n",
    "print(len(train))\n",
    "print(test.head())\n",
    "print(len(test))\n",
    "print(val.head())\n",
    "print(len(val))"
   ]
  },
  {
   "cell_type": "code",
   "execution_count": 4,
   "metadata": {
    "collapsed": true
   },
   "outputs": [],
   "source": [
    "from sklearn.feature_extraction.text import CountVectorizer\n",
    "v = CountVectorizer()\n",
    "training_text = []\n",
    "training_result = []\n",
    "for i in range(len(train)): #len(train)\n",
    "    training_text.append(''.join(str(x) for x in train['text'][i]))\n",
    "    training_result.append(train['Label'][i])\n",
    "training_text = v.fit_transform(training_text)"
   ]
  },
  {
   "cell_type": "code",
   "execution_count": 5,
   "metadata": {
    "collapsed": true
   },
   "outputs": [],
   "source": [
    "text = []\n",
    "result = []\n",
    "for i in range(len(train)):\n",
    "    text.append(''.join(str(x) for x in train['text'][i]))\n",
    "    result.append(train['Label'][i])\n",
    "X_train = v.transform(text)\n",
    "y_train = np.asarray(result)\n",
    "\n",
    "text = []\n",
    "result = []\n",
    "for i in range(len(val)):\n",
    "    text.append(''.join(str(x) for x in val['text'][i]))\n",
    "    result.append(val['Label'][i])\n",
    "X_val = v.transform(text)\n",
    "y_val = np.asarray(result)\n",
    "\n",
    "text = []\n",
    "result = []\n",
    "for i in range(len(test)):\n",
    "    text.append(''.join(str(x) for x in test['text'][i]))\n",
    "    result.append(test['Label'][i])\n",
    "X_test = v.transform(text)\n",
    "y_test = np.asarray(result)"
   ]
  },
  {
   "cell_type": "code",
   "execution_count": 6,
   "metadata": {},
   "outputs": [
    {
     "name": "stderr",
     "output_type": "stream",
     "text": [
      "/anaconda3/lib/python3.6/site-packages/h5py/__init__.py:36: FutureWarning: Conversion of the second argument of issubdtype from `float` to `np.floating` is deprecated. In future, it will be treated as `np.float64 == np.dtype(float).type`.\n",
      "  from ._conv import register_converters as _register_converters\n"
     ]
    },
    {
     "name": "stdout",
     "output_type": "stream",
     "text": [
      "_________________________________________________________________\n",
      "Layer (type)                 Output Shape              Param #   \n",
      "=================================================================\n",
      "embedding (Embedding)        (None, 60935, 50)         250000    \n",
      "_________________________________________________________________\n",
      "dropout (Dropout)            (None, 60935, 50)         0         \n",
      "_________________________________________________________________\n",
      "conv1d (Conv1D)              (None, 60933, 250)        37750     \n",
      "_________________________________________________________________\n",
      "global_max_pooling1d (Global (None, 250)               0         \n",
      "_________________________________________________________________\n",
      "dense (Dense)                (None, 250)               62750     \n",
      "_________________________________________________________________\n",
      "dropout_1 (Dropout)          (None, 250)               0         \n",
      "_________________________________________________________________\n",
      "activation (Activation)      (None, 250)               0         \n",
      "_________________________________________________________________\n",
      "dense_1 (Dense)              (None, 1)                 251       \n",
      "_________________________________________________________________\n",
      "activation_1 (Activation)    (None, 1)                 0         \n",
      "=================================================================\n",
      "Total params: 350,751\n",
      "Trainable params: 350,751\n",
      "Non-trainable params: 0\n",
      "_________________________________________________________________\n"
     ]
    }
   ],
   "source": [
    "from tensorflow.python.keras.preprocessing import sequence\n",
    "from tensorflow.python.keras.models import Sequential\n",
    "from tensorflow.python.keras.layers import Dense, Dropout, Activation\n",
    "from tensorflow.python.keras.layers import Embedding\n",
    "from tensorflow.python.keras.layers import Conv1D, GlobalMaxPooling1D\n",
    "# set parameters:\n",
    "max_features = 5000\n",
    "maxlen = 400\n",
    "batch_size = 32\n",
    "embedding_dims = 50\n",
    "filters = 250\n",
    "kernel_size = 3\n",
    "hidden_dims = 250\n",
    "epochs = 2\n",
    "\n",
    "model = Sequential()\n",
    "\n",
    "# we start off with an efficient embedding layer which maps\n",
    "# our vocab indices into embedding_dims dimensions\n",
    "model.add(Embedding(max_features,\n",
    "                    embedding_dims,\n",
    "                    input_length=X_train.shape[1]))\n",
    "model.add(Dropout(0.2))\n",
    "\n",
    "# we add a Convolution1D, which will learn filters\n",
    "# word group filters of size filter_length:\n",
    "model.add(Conv1D(filters,\n",
    "                 kernel_size,\n",
    "                 padding='valid',\n",
    "                 activation='relu',\n",
    "                 strides=1))\n",
    "# we use max pooling:\n",
    "model.add(GlobalMaxPooling1D())\n",
    "\n",
    "# We add a vanilla hidden layer:\n",
    "model.add(Dense(hidden_dims))\n",
    "model.add(Dropout(0.2))\n",
    "model.add(Activation('relu'))\n",
    "\n",
    "# We project onto a single unit output layer, and squash it with a sigmoid:\n",
    "model.add(Dense(1))\n",
    "model.add(Activation('sigmoid'))\n",
    "\n",
    "model.compile(loss='binary_crossentropy',\n",
    "              optimizer='adam',\n",
    "              metrics=['accuracy'])\n",
    "model.summary()"
   ]
  },
  {
   "cell_type": "code",
   "execution_count": null,
   "metadata": {},
   "outputs": [
    {
     "name": "stderr",
     "output_type": "stream",
     "text": [
      "/anaconda3/lib/python3.6/site-packages/tensorflow/python/ops/gradients_impl.py:112: UserWarning: Converting sparse IndexedSlices to a dense Tensor of unknown shape. This may consume a large amount of memory.\n",
      "  \"Converting sparse IndexedSlices to a dense Tensor of unknown shape. \"\n"
     ]
    },
    {
     "name": "stdout",
     "output_type": "stream",
     "text": [
      "Train on 4424 samples, validate on 12078 samples\n",
      "Epoch 1/3\n",
      "2680/4424 [=================>............] - ETA: 53:42 - loss: 0.6923 - acc: 0.5183"
     ]
    }
   ],
   "source": [
    "history = model.fit(X_train, y_train, epochs=3, validation_data=(X_val, y_val), batch_size=10)\n",
    "loss, accuracy = model.evaluate(X_train, y_train)\n",
    "print('Training Accuracy: {:.4f}'.format(accuracy))\n",
    "loss, accuracy = model.evaluate(X_test, y_test)\n",
    "print(\"Testing Accuracy: {:.4f}\".format(accuracy))"
   ]
  },
  {
   "cell_type": "code",
   "execution_count": null,
   "metadata": {
    "collapsed": true
   },
   "outputs": [],
   "source": []
  }
 ],
 "metadata": {
  "kernelspec": {
   "display_name": "Python 3",
   "language": "python",
   "name": "python3"
  },
  "language_info": {
   "codemirror_mode": {
    "name": "ipython",
    "version": 3
   },
   "file_extension": ".py",
   "mimetype": "text/x-python",
   "name": "python",
   "nbconvert_exporter": "python",
   "pygments_lexer": "ipython3",
   "version": "3.6.3"
  }
 },
 "nbformat": 4,
 "nbformat_minor": 2
}
